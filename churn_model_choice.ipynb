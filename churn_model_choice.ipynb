{
 "cells": [
  {
   "cell_type": "code",
   "execution_count": 39,
   "id": "67e377da",
   "metadata": {},
   "outputs": [],
   "source": [
    "import pandas as pd\n",
    "import numpy as np\n",
    "from sklearn.model_selection import train_test_split,GridSearchCV\n",
    "import xgboost as xgb\n",
    "from sklearn.metrics import confusion_matrix,classification_report\n",
    "import seaborn as sns\n",
    "import matplotlib.pyplot as plt\n",
    "from sklearn.metrics import accuracy_score,f1_score,precision_score,recall_score,confusion_matrix\n",
    "from sklearn.pipeline import Pipeline\n",
    "from sklearn.ensemble import AdaBoostClassifier\n",
    "from sklearn.tree import DecisionTreeClassifier\n",
    "from sklearn.linear_model import LogisticRegression\n",
    "from sklearn.ensemble import RandomForestClassifier\n",
    "from sklearn.model_selection import GridSearchCV\n",
    "from sklearn.metrics import roc_curve, auc"
   ]
  },
  {
   "cell_type": "code",
   "execution_count": 2,
   "id": "d7ba2e50",
   "metadata": {},
   "outputs": [],
   "source": [
    "df_churn = pd.read_csv('df_churn_transformed.csv')\n",
    "df_churn.drop(\"Unnamed: 0\",axis=1,inplace=True)"
   ]
  },
  {
   "cell_type": "code",
   "execution_count": 3,
   "id": "c980c0cb",
   "metadata": {},
   "outputs": [],
   "source": [
    "x_train,x_test,y_train,y_test = train_test_split(df_churn.iloc[:,~df_churn.columns.isin(['Exited'])],df_churn[['Exited']],test_size=0.2,random_state=0)"
   ]
  },
  {
   "cell_type": "code",
   "execution_count": 30,
   "id": "976c8a12",
   "metadata": {},
   "outputs": [],
   "source": [
    "pipe = Pipeline([('classifier',RandomForestClassifier())])\n",
    "param_grid = [\n",
    "    {\n",
    "        'classifier': [LogisticRegression()],\n",
    "        'classifier__penalty': ['l1', 'l2'],\n",
    "        'classifier__solver': ['liblinear', 'lbfgs']\n",
    "        \n",
    "    },\n",
    "    {\n",
    "        'classifier':[RandomForestClassifier()],\n",
    "        'classifier__n_estimators': [100, 200, 500],\n",
    "        'classifier__max_depth': [None, 5, 10,15],\n",
    "        'classifier__min_samples_split': [5,10, 15, 20],\n",
    "        'classifier__criterion':[\"gini\",\"entropy\",\"log_loss\"],\n",
    "        'classifier__max_features':[\"sqrt\",\"log2\"]\n",
    "\n",
    "    },\n",
    "    {\n",
    "        'classifier':[AdaBoostClassifier()],\n",
    "       'classifier__n_estimators':[100],\n",
    "        'classifier__estimator':[\n",
    "                        DecisionTreeClassifier(max_depth=1),\n",
    "                        DecisionTreeClassifier(max_depth=2),\n",
    "                        LogisticRegression(solver='lbfgs')\n",
    "        ],\n",
    "        \n",
    "        'classifier__learning_rate':[0.1,0.01],\n",
    "        'classifier__random_state':[42],\n",
    "        'classifier__algorithm':['SAMME','SAMME.R'] \n",
    "        \n",
    "    },\n",
    "    {\n",
    "        'classifier':[xgb.XGBClassifier()],\n",
    "        'classifier__max_depth':list(range(2,6,1)) ,\n",
    "        'classifier__learning_rate':[0.2,0.1,0.01,0.001],\n",
    "        'classifier__n_estimators':[50,100,300,400],\n",
    "        'classifier__reg_lambda':[0.5,0.1]\n",
    "        \n",
    "    }\n",
    "    \n",
    "    \n",
    "]"
   ]
  },
  {
   "cell_type": "code",
   "execution_count": 31,
   "id": "d9ea533e",
   "metadata": {},
   "outputs": [],
   "source": [
    "cv_grsc = GridSearchCV(pipe,param_grid=param_grid,cv=5,verbose=True,n_jobs=-1)"
   ]
  },
  {
   "cell_type": "code",
   "execution_count": 32,
   "id": "8ff638bf",
   "metadata": {},
   "outputs": [
    {
     "name": "stdout",
     "output_type": "stream",
     "text": [
      "Fitting 5 folds for each of 432 candidates, totalling 2160 fits\n"
     ]
    },
    {
     "name": "stderr",
     "output_type": "stream",
     "text": [
      "/home/ric/anaconda3/lib/python3.8/site-packages/sklearn/model_selection/_validation.py:378: FitFailedWarning: \n",
      "5 fits failed out of a total of 2160.\n",
      "The score on these train-test partitions for these parameters will be set to nan.\n",
      "If these failures are not expected, you can try to debug them by setting error_score='raise'.\n",
      "\n",
      "Below are more details about the failures:\n",
      "--------------------------------------------------------------------------------\n",
      "5 fits failed with the following error:\n",
      "Traceback (most recent call last):\n",
      "  File \"/home/ric/anaconda3/lib/python3.8/site-packages/sklearn/model_selection/_validation.py\", line 686, in _fit_and_score\n",
      "    estimator.fit(X_train, y_train, **fit_params)\n",
      "  File \"/home/ric/anaconda3/lib/python3.8/site-packages/sklearn/pipeline.py\", line 405, in fit\n",
      "    self._final_estimator.fit(Xt, y, **fit_params_last_step)\n",
      "  File \"/home/ric/anaconda3/lib/python3.8/site-packages/sklearn/linear_model/_logistic.py\", line 1162, in fit\n",
      "    solver = _check_solver(self.solver, self.penalty, self.dual)\n",
      "  File \"/home/ric/anaconda3/lib/python3.8/site-packages/sklearn/linear_model/_logistic.py\", line 54, in _check_solver\n",
      "    raise ValueError(\n",
      "ValueError: Solver lbfgs supports only 'l2' or 'none' penalties, got l1 penalty.\n",
      "\n",
      "  warnings.warn(some_fits_failed_message, FitFailedWarning)\n",
      "/home/ric/anaconda3/lib/python3.8/site-packages/sklearn/model_selection/_search.py:952: UserWarning: One or more of the test scores are non-finite: [0.809125      nan 0.808875 0.808875 0.860875 0.8625   0.861875 0.864375\n",
      " 0.862375 0.865875 0.863    0.8635   0.8635   0.863875 0.862875 0.862125\n",
      " 0.86125  0.8625   0.86175  0.863625 0.8635   0.865    0.864375 0.862875\n",
      " 0.863375 0.861    0.86375  0.863375 0.842625 0.843625 0.844    0.843875\n",
      " 0.8425   0.841875 0.843875 0.843125 0.842625 0.84125  0.841875 0.843125\n",
      " 0.843375 0.84075  0.842375 0.8405   0.84375  0.84225  0.8435   0.8415\n",
      " 0.84225  0.845    0.8435   0.84325  0.859125 0.8615   0.86125  0.8625\n",
      " 0.861    0.861375 0.859625 0.86175  0.860125 0.85875  0.860875 0.860625\n",
      " 0.8605   0.860125 0.861125 0.862    0.8615   0.8615   0.86125  0.86025\n",
      " 0.86025  0.8615   0.86025  0.859625 0.861    0.862375 0.864375 0.86325\n",
      " 0.86175  0.864    0.8625   0.862875 0.86425  0.862125 0.862125 0.862875\n",
      " 0.86225  0.863    0.864    0.862875 0.863    0.86525  0.8625   0.862125\n",
      " 0.863625 0.862875 0.86325  0.863    0.861375 0.86175  0.86225  0.863\n",
      " 0.86425  0.863625 0.8635   0.865125 0.864125 0.86175  0.863125 0.86325\n",
      " 0.860875 0.86225  0.863    0.863125 0.8625   0.864875 0.8635   0.86375\n",
      " 0.864625 0.863375 0.862375 0.863375 0.841625 0.839625 0.84075  0.841\n",
      " 0.840625 0.83975  0.840625 0.840375 0.84025  0.839875 0.8405   0.8405\n",
      " 0.8395   0.843875 0.841375 0.840125 0.841375 0.84     0.838625 0.840375\n",
      " 0.8405   0.840625 0.83925  0.841    0.861125 0.86125  0.86025  0.86025\n",
      " 0.861125 0.86075  0.861375 0.86     0.86075  0.859875 0.860375 0.860375\n",
      " 0.86075  0.859375 0.861    0.861625 0.86025  0.860625 0.861    0.863375\n",
      " 0.860625 0.861875 0.860375 0.85975  0.863    0.86375  0.86325  0.86125\n",
      " 0.865    0.864    0.864375 0.8625   0.864375 0.864125 0.863375 0.8635\n",
      " 0.862875 0.86375  0.864    0.863375 0.863875 0.86325  0.861875 0.8625\n",
      " 0.864    0.86325  0.862    0.862625 0.861625 0.862125 0.863625 0.861625\n",
      " 0.863375 0.863375 0.8635   0.86325  0.864375 0.863875 0.86425  0.863\n",
      " 0.862625 0.86275  0.86325  0.862625 0.864375 0.8645   0.86425  0.86275\n",
      " 0.86425  0.86325  0.86375  0.8635   0.84225  0.841375 0.84025  0.839125\n",
      " 0.839    0.842625 0.840875 0.841    0.840375 0.842875 0.84     0.841\n",
      " 0.838375 0.839125 0.841375 0.841125 0.84075  0.842875 0.839125 0.840875\n",
      " 0.84075  0.84     0.84025  0.84075  0.86075  0.86     0.860125 0.861625\n",
      " 0.860625 0.8605   0.86     0.860375 0.86     0.859875 0.86025  0.861625\n",
      " 0.860875 0.859625 0.860875 0.861125 0.859625 0.8605   0.86125  0.8595\n",
      " 0.861125 0.860375 0.859625 0.8605   0.862875 0.86225  0.863375 0.864125\n",
      " 0.865125 0.863875 0.863625 0.86375  0.862625 0.862375 0.8625   0.861625\n",
      " 0.860875 0.86125  0.865375 0.863375 0.862375 0.865    0.86275  0.86275\n",
      " 0.864    0.86225  0.86275  0.862875 0.81275  0.796    0.854875 0.81575\n",
      " 0.807625 0.796    0.847375 0.8115   0.8595   0.849    0.805375 0.796\n",
      " 0.860375 0.86025  0.861625 0.863    0.8625   0.862    0.86     0.86125\n",
      " 0.861    0.863875 0.862125 0.8645   0.860125 0.85875  0.857875 0.856625\n",
      " 0.863125 0.862375 0.86075  0.862    0.856875 0.8565   0.8535   0.852625\n",
      " 0.86     0.85975  0.858125 0.858625 0.849625 0.850875 0.847125 0.84625\n",
      " 0.855625 0.856875 0.86     0.860125 0.86325  0.863125 0.86425  0.863\n",
      " 0.86225  0.862125 0.8625   0.862625 0.8645   0.863625 0.863875 0.86325\n",
      " 0.8615   0.86225  0.862375 0.862875 0.861    0.860875 0.859375 0.859125\n",
      " 0.862125 0.863125 0.861625 0.862    0.8565   0.85525  0.856    0.85475\n",
      " 0.84075  0.84075  0.849    0.849    0.852625 0.8525   0.854875 0.854625\n",
      " 0.848125 0.848125 0.852    0.852    0.8575   0.85775  0.86025  0.85975\n",
      " 0.852875 0.852875 0.853875 0.853875 0.859625 0.8595   0.8615   0.860625\n",
      " 0.852375 0.852875 0.855625 0.855375 0.861    0.86125  0.8625   0.862\n",
      " 0.827625 0.827625 0.827625 0.827625 0.83725  0.83725  0.8395   0.8395\n",
      " 0.83825  0.83825  0.83775  0.83775  0.84325  0.842375 0.8475   0.8475\n",
      " 0.848125 0.84925  0.850125 0.85075  0.85225  0.852625 0.85275  0.85275\n",
      " 0.848125 0.84925  0.848625 0.849125 0.849125 0.84925  0.849875 0.850125]\n",
      "  warnings.warn(\n",
      "/home/ric/anaconda3/lib/python3.8/site-packages/sklearn/pipeline.py:405: DataConversionWarning: A column-vector y was passed when a 1d array was expected. Please change the shape of y to (n_samples,), for example using ravel().\n",
      "  self._final_estimator.fit(Xt, y, **fit_params_last_step)\n"
     ]
    },
    {
     "data": {
      "text/html": [
       "<style>#sk-container-id-1 {color: black;background-color: white;}#sk-container-id-1 pre{padding: 0;}#sk-container-id-1 div.sk-toggleable {background-color: white;}#sk-container-id-1 label.sk-toggleable__label {cursor: pointer;display: block;width: 100%;margin-bottom: 0;padding: 0.3em;box-sizing: border-box;text-align: center;}#sk-container-id-1 label.sk-toggleable__label-arrow:before {content: \"▸\";float: left;margin-right: 0.25em;color: #696969;}#sk-container-id-1 label.sk-toggleable__label-arrow:hover:before {color: black;}#sk-container-id-1 div.sk-estimator:hover label.sk-toggleable__label-arrow:before {color: black;}#sk-container-id-1 div.sk-toggleable__content {max-height: 0;max-width: 0;overflow: hidden;text-align: left;background-color: #f0f8ff;}#sk-container-id-1 div.sk-toggleable__content pre {margin: 0.2em;color: black;border-radius: 0.25em;background-color: #f0f8ff;}#sk-container-id-1 input.sk-toggleable__control:checked~div.sk-toggleable__content {max-height: 200px;max-width: 100%;overflow: auto;}#sk-container-id-1 input.sk-toggleable__control:checked~label.sk-toggleable__label-arrow:before {content: \"▾\";}#sk-container-id-1 div.sk-estimator input.sk-toggleable__control:checked~label.sk-toggleable__label {background-color: #d4ebff;}#sk-container-id-1 div.sk-label input.sk-toggleable__control:checked~label.sk-toggleable__label {background-color: #d4ebff;}#sk-container-id-1 input.sk-hidden--visually {border: 0;clip: rect(1px 1px 1px 1px);clip: rect(1px, 1px, 1px, 1px);height: 1px;margin: -1px;overflow: hidden;padding: 0;position: absolute;width: 1px;}#sk-container-id-1 div.sk-estimator {font-family: monospace;background-color: #f0f8ff;border: 1px dotted black;border-radius: 0.25em;box-sizing: border-box;margin-bottom: 0.5em;}#sk-container-id-1 div.sk-estimator:hover {background-color: #d4ebff;}#sk-container-id-1 div.sk-parallel-item::after {content: \"\";width: 100%;border-bottom: 1px solid gray;flex-grow: 1;}#sk-container-id-1 div.sk-label:hover label.sk-toggleable__label {background-color: #d4ebff;}#sk-container-id-1 div.sk-serial::before {content: \"\";position: absolute;border-left: 1px solid gray;box-sizing: border-box;top: 0;bottom: 0;left: 50%;z-index: 0;}#sk-container-id-1 div.sk-serial {display: flex;flex-direction: column;align-items: center;background-color: white;padding-right: 0.2em;padding-left: 0.2em;position: relative;}#sk-container-id-1 div.sk-item {position: relative;z-index: 1;}#sk-container-id-1 div.sk-parallel {display: flex;align-items: stretch;justify-content: center;background-color: white;position: relative;}#sk-container-id-1 div.sk-item::before, #sk-container-id-1 div.sk-parallel-item::before {content: \"\";position: absolute;border-left: 1px solid gray;box-sizing: border-box;top: 0;bottom: 0;left: 50%;z-index: -1;}#sk-container-id-1 div.sk-parallel-item {display: flex;flex-direction: column;z-index: 1;position: relative;background-color: white;}#sk-container-id-1 div.sk-parallel-item:first-child::after {align-self: flex-end;width: 50%;}#sk-container-id-1 div.sk-parallel-item:last-child::after {align-self: flex-start;width: 50%;}#sk-container-id-1 div.sk-parallel-item:only-child::after {width: 0;}#sk-container-id-1 div.sk-dashed-wrapped {border: 1px dashed gray;margin: 0 0.4em 0.5em 0.4em;box-sizing: border-box;padding-bottom: 0.4em;background-color: white;}#sk-container-id-1 div.sk-label label {font-family: monospace;font-weight: bold;display: inline-block;line-height: 1.2em;}#sk-container-id-1 div.sk-label-container {text-align: center;}#sk-container-id-1 div.sk-container {/* jupyter's `normalize.less` sets `[hidden] { display: none; }` but bootstrap.min.css set `[hidden] { display: none !important; }` so we also need the `!important` here to be able to override the default hidden behavior on the sphinx rendered scikit-learn.org. See: https://github.com/scikit-learn/scikit-learn/issues/21755 */display: inline-block !important;position: relative;}#sk-container-id-1 div.sk-text-repr-fallback {display: none;}</style><div id=\"sk-container-id-1\" class=\"sk-top-container\"><div class=\"sk-text-repr-fallback\"><pre>GridSearchCV(cv=5,\n",
       "             estimator=Pipeline(steps=[(&#x27;classifier&#x27;,\n",
       "                                        RandomForestClassifier())]),\n",
       "             n_jobs=-1,\n",
       "             param_grid=[{&#x27;classifier&#x27;: [LogisticRegression()],\n",
       "                          &#x27;classifier__penalty&#x27;: [&#x27;l1&#x27;, &#x27;l2&#x27;],\n",
       "                          &#x27;classifier__solver&#x27;: [&#x27;liblinear&#x27;, &#x27;lbfgs&#x27;]},\n",
       "                         {&#x27;classifier&#x27;: [RandomForestClassifier(min_samples_split=10,\n",
       "                                                                n_estimators=500)],\n",
       "                          &#x27;classifier__criterion&#x27;: [&#x27;gini&#x27;, &#x27;entropy&#x27;,\n",
       "                                                    &#x27;log_lo...\n",
       "                                                       max_depth=None,\n",
       "                                                       max_leaves=None,\n",
       "                                                       min_child_weight=None,\n",
       "                                                       missing=nan,\n",
       "                                                       monotone_constraints=None,\n",
       "                                                       n_estimators=100,\n",
       "                                                       n_jobs=None,\n",
       "                                                       num_parallel_tree=None,\n",
       "                                                       predictor=None,\n",
       "                                                       random_state=None, ...)],\n",
       "                          &#x27;classifier__learning_rate&#x27;: [0.2, 0.1, 0.01, 0.001],\n",
       "                          &#x27;classifier__max_depth&#x27;: [2, 3, 4, 5],\n",
       "                          &#x27;classifier__n_estimators&#x27;: [50, 100, 300, 400],\n",
       "                          &#x27;classifier__reg_lambda&#x27;: [0.5, 0.1]}],\n",
       "             verbose=True)</pre><b>In a Jupyter environment, please rerun this cell to show the HTML representation or trust the notebook. <br />On GitHub, the HTML representation is unable to render, please try loading this page with nbviewer.org.</b></div><div class=\"sk-container\" hidden><div class=\"sk-item sk-dashed-wrapped\"><div class=\"sk-label-container\"><div class=\"sk-label sk-toggleable\"><input class=\"sk-toggleable__control sk-hidden--visually\" id=\"sk-estimator-id-1\" type=\"checkbox\" ><label for=\"sk-estimator-id-1\" class=\"sk-toggleable__label sk-toggleable__label-arrow\">GridSearchCV</label><div class=\"sk-toggleable__content\"><pre>GridSearchCV(cv=5,\n",
       "             estimator=Pipeline(steps=[(&#x27;classifier&#x27;,\n",
       "                                        RandomForestClassifier())]),\n",
       "             n_jobs=-1,\n",
       "             param_grid=[{&#x27;classifier&#x27;: [LogisticRegression()],\n",
       "                          &#x27;classifier__penalty&#x27;: [&#x27;l1&#x27;, &#x27;l2&#x27;],\n",
       "                          &#x27;classifier__solver&#x27;: [&#x27;liblinear&#x27;, &#x27;lbfgs&#x27;]},\n",
       "                         {&#x27;classifier&#x27;: [RandomForestClassifier(min_samples_split=10,\n",
       "                                                                n_estimators=500)],\n",
       "                          &#x27;classifier__criterion&#x27;: [&#x27;gini&#x27;, &#x27;entropy&#x27;,\n",
       "                                                    &#x27;log_lo...\n",
       "                                                       max_depth=None,\n",
       "                                                       max_leaves=None,\n",
       "                                                       min_child_weight=None,\n",
       "                                                       missing=nan,\n",
       "                                                       monotone_constraints=None,\n",
       "                                                       n_estimators=100,\n",
       "                                                       n_jobs=None,\n",
       "                                                       num_parallel_tree=None,\n",
       "                                                       predictor=None,\n",
       "                                                       random_state=None, ...)],\n",
       "                          &#x27;classifier__learning_rate&#x27;: [0.2, 0.1, 0.01, 0.001],\n",
       "                          &#x27;classifier__max_depth&#x27;: [2, 3, 4, 5],\n",
       "                          &#x27;classifier__n_estimators&#x27;: [50, 100, 300, 400],\n",
       "                          &#x27;classifier__reg_lambda&#x27;: [0.5, 0.1]}],\n",
       "             verbose=True)</pre></div></div></div><div class=\"sk-parallel\"><div class=\"sk-parallel-item\"><div class=\"sk-item\"><div class=\"sk-label-container\"><div class=\"sk-label sk-toggleable\"><input class=\"sk-toggleable__control sk-hidden--visually\" id=\"sk-estimator-id-2\" type=\"checkbox\" ><label for=\"sk-estimator-id-2\" class=\"sk-toggleable__label sk-toggleable__label-arrow\">estimator: Pipeline</label><div class=\"sk-toggleable__content\"><pre>Pipeline(steps=[(&#x27;classifier&#x27;, RandomForestClassifier())])</pre></div></div></div><div class=\"sk-serial\"><div class=\"sk-item\"><div class=\"sk-serial\"><div class=\"sk-item\"><div class=\"sk-estimator sk-toggleable\"><input class=\"sk-toggleable__control sk-hidden--visually\" id=\"sk-estimator-id-3\" type=\"checkbox\" ><label for=\"sk-estimator-id-3\" class=\"sk-toggleable__label sk-toggleable__label-arrow\">RandomForestClassifier</label><div class=\"sk-toggleable__content\"><pre>RandomForestClassifier()</pre></div></div></div></div></div></div></div></div></div></div></div></div>"
      ],
      "text/plain": [
       "GridSearchCV(cv=5,\n",
       "             estimator=Pipeline(steps=[('classifier',\n",
       "                                        RandomForestClassifier())]),\n",
       "             n_jobs=-1,\n",
       "             param_grid=[{'classifier': [LogisticRegression()],\n",
       "                          'classifier__penalty': ['l1', 'l2'],\n",
       "                          'classifier__solver': ['liblinear', 'lbfgs']},\n",
       "                         {'classifier': [RandomForestClassifier(min_samples_split=10,\n",
       "                                                                n_estimators=500)],\n",
       "                          'classifier__criterion': ['gini', 'entropy',\n",
       "                                                    'log_lo...\n",
       "                                                       max_depth=None,\n",
       "                                                       max_leaves=None,\n",
       "                                                       min_child_weight=None,\n",
       "                                                       missing=nan,\n",
       "                                                       monotone_constraints=None,\n",
       "                                                       n_estimators=100,\n",
       "                                                       n_jobs=None,\n",
       "                                                       num_parallel_tree=None,\n",
       "                                                       predictor=None,\n",
       "                                                       random_state=None, ...)],\n",
       "                          'classifier__learning_rate': [0.2, 0.1, 0.01, 0.001],\n",
       "                          'classifier__max_depth': [2, 3, 4, 5],\n",
       "                          'classifier__n_estimators': [50, 100, 300, 400],\n",
       "                          'classifier__reg_lambda': [0.5, 0.1]}],\n",
       "             verbose=True)"
      ]
     },
     "execution_count": 32,
     "metadata": {},
     "output_type": "execute_result"
    }
   ],
   "source": [
    "cv_grsc.fit(x_train,y_train)"
   ]
  },
  {
   "cell_type": "code",
   "execution_count": 34,
   "id": "f003eb35",
   "metadata": {},
   "outputs": [
    {
     "data": {
      "text/plain": [
       "{'classifier': RandomForestClassifier(min_samples_split=10, n_estimators=500),\n",
       " 'classifier__criterion': 'gini',\n",
       " 'classifier__max_depth': None,\n",
       " 'classifier__max_features': 'sqrt',\n",
       " 'classifier__min_samples_split': 10,\n",
       " 'classifier__n_estimators': 500}"
      ]
     },
     "execution_count": 34,
     "metadata": {},
     "output_type": "execute_result"
    }
   ],
   "source": [
    "cv_grsc.best_params_"
   ]
  },
  {
   "cell_type": "code",
   "execution_count": 35,
   "id": "931975f5",
   "metadata": {},
   "outputs": [],
   "source": [
    "y_pred_bmd = cv_grsc.best_estimator_.predict(x_test)"
   ]
  },
  {
   "cell_type": "code",
   "execution_count": 36,
   "id": "397e264f",
   "metadata": {},
   "outputs": [],
   "source": [
    "class classif_result(object):\n",
    "    def __init__(self,y_test,y_pred_test):\n",
    "        \n",
    "        self.y_true = y_test\n",
    "        self.y_pred = y_pred_test\n",
    "        \n",
    "    def cm(self):\n",
    "        cm = confusion_matrix(self.y_true, self.y_pred)\n",
    "        print(cm)\n",
    "        cm_matrix = pd.DataFrame(data=cm, columns=['Vrai Positive:1', 'Vraie Negative:0'], \n",
    "                                 index=['Estimation Positive:1', 'Estimation Negative:0'])\n",
    "\n",
    "        sns.heatmap(cm_matrix, annot=True, fmt='d', cmap='YlGnBu')\n",
    "        plt.show()\n",
    "        print(\">> resultat de la classification:\")\n",
    "        print(classification_report(self.y_true, self.y_pred))\n",
    "        TP = cm[0,0]\n",
    "        TN = cm[1,1]\n",
    "        FP = cm[0,1]\n",
    "        FN = cm[1,0]\n",
    "        classification_accuracy = (TP + TN) / float(TP + TN + FP + FN)\n",
    "        print('Justesse de la Classification (accuracy) : {0:0.4f}'.format(classification_accuracy))\n",
    "        classification_error = (FP + FN) / float(TP + TN + FP + FN)\n",
    "        print('Erreurs de Classification : {0:0.4f}'.format(classification_error))\n",
    "        recall = TP / float(TP + FN)\n",
    "        print('Recall ou Sensitivity : {0:0.4f}'.format(recall))\n",
    "        print(\"taux de faux positive:\")\n",
    "        false_positive_rate = FP / float(FP + TN)\n",
    "        print(false_positive_rate)\n",
    "        print('False Positive Rate : {0:0.4f}'.format(false_positive_rate))\n",
    "        specificity = TN / (TN + FP)\n",
    "        print('Specificity : {0:0.4f}'.format(specificity))"
   ]
  },
  {
   "cell_type": "code",
   "execution_count": 38,
   "id": "25e8a96f",
   "metadata": {},
   "outputs": [
    {
     "name": "stdout",
     "output_type": "stream",
     "text": [
      "[[1535   60]\n",
      " [ 198  207]]\n"
     ]
    },
    {
     "data": {
      "image/png": "[encoded data removed]",
      "text/plain": [
       "<Figure size 432x288 with 2 Axes>"
      ]
     },
     "metadata": {
      "needs_background": "light"
     },
     "output_type": "display_data"
    },
    {
     "name": "stdout",
     "output_type": "stream",
     "text": [
      ">> resultat de la classification:\n",
      "              precision    recall  f1-score   support\n",
      "\n",
      "           0       0.89      0.96      0.92      1595\n",
      "           1       0.78      0.51      0.62       405\n",
      "\n",
      "    accuracy                           0.87      2000\n",
      "   macro avg       0.83      0.74      0.77      2000\n",
      "weighted avg       0.86      0.87      0.86      2000\n",
      "\n",
      "Justesse de la Classification (accuracy) : 0.8710\n",
      "Erreurs de Classification : 0.1290\n",
      "Recall ou Sensitivity : 0.8857\n",
      "taux de faux positive:\n",
      "0.2247191011235955\n",
      "False Positive Rate : 0.2247\n",
      "Specificity : 0.7753\n"
     ]
    }
   ],
   "source": [
    "classif_result(y_test,y_pred_bmd).cm()"
   ]
  },
  {
   "cell_type": "code",
   "execution_count": null,
   "id": "f11e3638",
   "metadata": {},
   "outputs": [],
   "source": []
  }
 ],
 "metadata": {
  "kernelspec": {
   "display_name": "Python 3",
   "language": "python",
   "name": "python3"
  },
  "language_info": {
   "codemirror_mode": {
    "name": "ipython",
    "version": 3
   },
   "file_extension": ".py",
   "mimetype": "text/x-python",
   "name": "python",
   "nbconvert_exporter": "python",
   "pygments_lexer": "ipython3",
   "version": "3.8.8"
  }
 },
 "nbformat": 4,
 "nbformat_minor": 5
}
